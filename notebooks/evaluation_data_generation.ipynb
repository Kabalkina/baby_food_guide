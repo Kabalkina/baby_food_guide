{
 "cells": [
  {
   "cell_type": "code",
   "execution_count": 2,
   "id": "6134c622",
   "metadata": {},
   "outputs": [],
   "source": [
    "import pandas as pd"
   ]
  },
  {
   "cell_type": "code",
   "execution_count": 3,
   "id": "1cfc3a2f",
   "metadata": {},
   "outputs": [],
   "source": [
    "df = pd.read_csv('../data/baby_recipes_cleaned.csv', sep = ';')\n",
    "documents = df.to_dict(orient='records')"
   ]
  },
  {
   "cell_type": "code",
   "execution_count": 4,
   "id": "0a98b735",
   "metadata": {},
   "outputs": [
    {
     "data": {
      "text/plain": [
       "{'id': 1,\n",
       " 'dish_name': 'Sweet Potato Purée',\n",
       " 'baby_age': '6-8 months',\n",
       " 'iron_rich': 'No',\n",
       " 'allergen': 'Dairy',\n",
       " 'ingredients': 'sweet potato, water or breastmilk/formula',\n",
       " 'cooking_time': 15,\n",
       " 'recipe': 'Wash and prep ingredients: sweet potato, water or breastmilk/formula. Steam or gently simmer vegetables/fruit until fork-tender. Blend with a splash of cooking water or breastmilk/formula until smooth. Cool before serving. Store in the fridge up to 2 days or freeze portions up to 1 month.',\n",
       " 'texture': 'Purée',\n",
       " 'meal_type': 'Breakfast',\n",
       " 'calories': 160,\n",
       " 'preparation_difficulty': 'Easy'}"
      ]
     },
     "execution_count": 4,
     "metadata": {},
     "output_type": "execute_result"
    }
   ],
   "source": [
    "documents[0]"
   ]
  },
  {
   "cell_type": "code",
   "execution_count": 5,
   "id": "216f3d05",
   "metadata": {},
   "outputs": [],
   "source": [
    "prompt_template = \"\"\"\n",
    "You emulate a user who is searching for a recipe for a baby. \n",
    "Formulate 5 questions this user might ask based on a baby food recipe. The record\n",
    "should contain the answer to the questions, and the questions should be complete and not too short.\n",
    "Use as fewer words as possible from the record. \n",
    "\n",
    "The record:\n",
    "\n",
    "\n",
    "'dish_name': '{dish_name}',\n",
    "'baby_age' : {baby_age},\n",
    "'iron_rich': {iron_rich},\n",
    "'allergen': {allergen},\n",
    "'ingredients': '{ingredients}',\n",
    "'cooking_time': {cooking_time},\n",
    "'texture': '{texture}',\n",
    "'meal_type': '{meal_type}',\n",
    "'calories': {calories},\n",
    "'preparation_difficulty': '{preparation_difficulty}',\n",
    "'recipe': '{recipe}'\n",
    "\n",
    "\n",
    "Provide the output in parsable JSON without using code blocks:\n",
    "\n",
    "[\"question1\", \"question2\", ..., \"question5\"]\n",
    "\"\"\".strip()"
   ]
  },
  {
   "cell_type": "code",
   "execution_count": 6,
   "id": "e014728a",
   "metadata": {},
   "outputs": [
    {
     "name": "stdout",
     "output_type": "stream",
     "text": [
      "You emulate a user who is searching for a recipe for a baby. \n",
      "Formulate 5 questions this user might ask based on a baby food recipe. The record\n",
      "should contain the answer to the questions, and the questions should be complete and not too short.\n",
      "Use as fewer words as possible from the record. \n",
      "\n",
      "The record:\n",
      "\n",
      "\n",
      "'dish_name': 'Sweet Potato Purée',\n",
      "'baby_age' : 6-8 months,\n",
      "'iron_rich': No,\n",
      "'allergen': Dairy,\n",
      "'ingredients': 'sweet potato, water or breastmilk/formula',\n",
      "'cooking_time': 15,\n",
      "'texture': 'Purée',\n",
      "'meal_type': 'Breakfast',\n",
      "'calories': 160,\n",
      "'preparation_difficulty': 'Easy',\n",
      "'recipe': 'Wash and prep ingredients: sweet potato, water or breastmilk/formula. Steam or gently simmer vegetables/fruit until fork-tender. Blend with a splash of cooking water or breastmilk/formula until smooth. Cool before serving. Store in the fridge up to 2 days or freeze portions up to 1 month.'\n",
      "\n",
      "\n",
      "Provide the output in parsable JSON without using code blocks:\n",
      "\n",
      "[\"question1\", \"question2\", ..., \"question5\"]\n"
     ]
    }
   ],
   "source": [
    "print(prompt_template.format(**documents[0]))"
   ]
  },
  {
   "cell_type": "code",
   "execution_count": 7,
   "id": "7856fef1",
   "metadata": {},
   "outputs": [],
   "source": [
    "from dotenv import load_dotenv\n",
    "import os\n",
    "from groq import Groq"
   ]
  },
  {
   "cell_type": "code",
   "execution_count": 8,
   "id": "61b70c86",
   "metadata": {},
   "outputs": [],
   "source": [
    "load_dotenv()\n",
    "\n",
    "groq_client = Groq(api_key=os.getenv(\"GROQ_API_KEY\"))"
   ]
  },
  {
   "cell_type": "code",
   "execution_count": 9,
   "id": "d576faff",
   "metadata": {},
   "outputs": [],
   "source": [
    "import re"
   ]
  },
  {
   "cell_type": "code",
   "execution_count": 10,
   "id": "50ee8b00",
   "metadata": {},
   "outputs": [],
   "source": [
    "def llm(prompt):\n",
    "    response = groq_client.chat.completions.create(\n",
    "        model='qwen/qwen3-32b',\n",
    "        messages=[{\"role\": \"user\", \"content\": prompt}]\n",
    "    )\n",
    "    final_answer = response.choices[0].message.content\n",
    "\n",
    "    return re.sub(r\"<think>.*?</think>\\s*\", \"\", final_answer, flags=re.DOTALL).strip()"
   ]
  },
  {
   "cell_type": "code",
   "execution_count": 11,
   "id": "46ef8b78",
   "metadata": {},
   "outputs": [],
   "source": [
    "prompt = prompt_template.format(**documents[0])"
   ]
  },
  {
   "cell_type": "code",
   "execution_count": 12,
   "id": "7387b4b4",
   "metadata": {},
   "outputs": [
    {
     "name": "stdout",
     "output_type": "stream",
     "text": [
      "[\"Is Sweet Potato Purée suitable for a 6-month-old baby just starting solids?\",\"Does the Sweet Potato Purée recipe include any allergens like dairy?\",\"How can I prepare Sweet Potato Purée without breastmilk/formula?\",\"What is the recommended consistency for 6-8 month old infants in this recipe?\",\"How long does it take to cook Sweet Potato Purée for baby?\"]\n"
     ]
    }
   ],
   "source": [
    "questions = llm(prompt)\n",
    "print(questions)"
   ]
  },
  {
   "cell_type": "code",
   "execution_count": 13,
   "id": "c1bc7665",
   "metadata": {},
   "outputs": [],
   "source": [
    "import json"
   ]
  },
  {
   "cell_type": "code",
   "execution_count": 14,
   "id": "43c02a49",
   "metadata": {},
   "outputs": [
    {
     "data": {
      "text/plain": [
       "['Is Sweet Potato Purée suitable for a 6-month-old baby just starting solids?',\n",
       " 'Does the Sweet Potato Purée recipe include any allergens like dairy?',\n",
       " 'How can I prepare Sweet Potato Purée without breastmilk/formula?',\n",
       " 'What is the recommended consistency for 6-8 month old infants in this recipe?',\n",
       " 'How long does it take to cook Sweet Potato Purée for baby?']"
      ]
     },
     "execution_count": 14,
     "metadata": {},
     "output_type": "execute_result"
    }
   ],
   "source": [
    "json.loads(questions)"
   ]
  },
  {
   "cell_type": "code",
   "execution_count": 15,
   "id": "68be684d",
   "metadata": {},
   "outputs": [],
   "source": [
    "from tqdm.auto import tqdm"
   ]
  },
  {
   "cell_type": "code",
   "execution_count": 16,
   "id": "e66771d4",
   "metadata": {},
   "outputs": [],
   "source": [
    "def generate_questions(doc):\n",
    "    prompt = prompt_template.format(**doc)\n",
    "\n",
    "    response = groq_client.chat.completions.create(\n",
    "        model='qwen/qwen3-32b',\n",
    "        messages=[{\"role\": \"user\", \"content\": prompt}]\n",
    "    )\n",
    "\n",
    "    json_response = response.choices[0].message.content\n",
    "\n",
    "    return re.sub(r\"<think>.*?</think>\\s*\", \"\", json_response, flags=re.DOTALL).strip()"
   ]
  },
  {
   "cell_type": "code",
   "execution_count": 17,
   "id": "2b82d50e",
   "metadata": {},
   "outputs": [],
   "source": [
    "results = {}"
   ]
  },
  {
   "cell_type": "code",
   "execution_count": 18,
   "id": "9cccd2e3",
   "metadata": {},
   "outputs": [
    {
     "data": {
      "application/vnd.jupyter.widget-view+json": {
       "model_id": "4388a543bd3c44cfa98a4584cbde0a93",
       "version_major": 2,
       "version_minor": 0
      },
      "text/plain": [
       "  0%|          | 0/500 [00:00<?, ?it/s]"
      ]
     },
     "metadata": {},
     "output_type": "display_data"
    }
   ],
   "source": [
    "for doc in tqdm(documents): \n",
    "    doc_id = doc['id']\n",
    "    if doc_id in results:\n",
    "        continue\n",
    "\n",
    "    questions = generate_questions(doc)\n",
    "    results[doc_id] = questions"
   ]
  },
  {
   "cell_type": "code",
   "execution_count": 22,
   "id": "531ddca4",
   "metadata": {},
   "outputs": [
    {
     "data": {
      "text/plain": [
       "'[\"Does this recipe contain any allergens?\", \"Is this dish considered iron-rich for babies?\", \"Can this purée be served warm, or must it be cooled first?\", \"How long can this purée be stored in the freezer?\", \"Is this recipe suitable for a baby younger than 6 months?\"]'"
      ]
     },
     "execution_count": 22,
     "metadata": {},
     "output_type": "execute_result"
    }
   ],
   "source": [
    "results[1]"
   ]
  },
  {
   "cell_type": "code",
   "execution_count": 23,
   "id": "ee474f36",
   "metadata": {},
   "outputs": [
    {
     "name": "stdout",
     "output_type": "stream",
     "text": [
      "   id                                           question\n",
      "0   1            Does this recipe contain any allergens?\n",
      "1   1      Is this dish considered iron-rich for babies?\n",
      "2   1  Can this purée be served warm, or must it be c...\n",
      "3   1  How long can this purée be stored in the freezer?\n",
      "4   1  Is this recipe suitable for a baby younger tha...\n"
     ]
    }
   ],
   "source": [
    "import pandas as pd\n",
    "import ast\n",
    "\n",
    "final_results = []\n",
    "\n",
    "for doc_id, questions in results.items():\n",
    "    if isinstance(questions, str):\n",
    "        try:\n",
    "            questions = json.loads(questions.strip())\n",
    "        except json.JSONDecodeError:\n",
    "            questions = [questions] \n",
    "\n",
    "    for q in questions:\n",
    "        final_results.append((doc_id, q))\n",
    "\n",
    "df_results = pd.DataFrame(final_results, columns=['id', 'question'])\n",
    "print(df_results.head())\n"
   ]
  },
  {
   "cell_type": "code",
   "execution_count": 26,
   "id": "ebdf2b3b",
   "metadata": {},
   "outputs": [],
   "source": [
    "df_results.to_csv('../data/ground-truth-data.csv', index=False)"
   ]
  },
  {
   "cell_type": "markdown",
   "id": "0429e3da",
   "metadata": {},
   "source": [
    "# Retrival evaluation"
   ]
  },
  {
   "cell_type": "code",
   "execution_count": 8,
   "id": "5c4bab97",
   "metadata": {},
   "outputs": [
    {
     "ename": "NameError",
     "evalue": "name 'pd' is not defined",
     "output_type": "error",
     "traceback": [
      "\u001b[31m---------------------------------------------------------------------------\u001b[39m",
      "\u001b[31mNameError\u001b[39m                                 Traceback (most recent call last)",
      "\u001b[36mCell\u001b[39m\u001b[36m \u001b[39m\u001b[32mIn[8]\u001b[39m\u001b[32m, line 1\u001b[39m\n\u001b[32m----> \u001b[39m\u001b[32m1\u001b[39m ground_truth = \u001b[43mpd\u001b[49m.read_csv(\u001b[33m'\u001b[39m\u001b[33m../data/ground-truth-data.csv\u001b[39m\u001b[33m'\u001b[39m)\n\u001b[32m      2\u001b[39m ground_truth.head()\n",
      "\u001b[31mNameError\u001b[39m: name 'pd' is not defined"
     ]
    }
   ],
   "source": [
    "ground_truth = pd.read_csv('../data/ground-truth-data.csv')\n",
    "ground_truth.head()"
   ]
  },
  {
   "cell_type": "code",
   "execution_count": 27,
   "id": "adde3f2e",
   "metadata": {},
   "outputs": [],
   "source": [
    "ground_truth = df_results.to_dict(orient='records')"
   ]
  },
  {
   "cell_type": "code",
   "execution_count": 1,
   "id": "0dfedefd",
   "metadata": {},
   "outputs": [],
   "source": [
    "from qdrant_client import QdrantClient, models"
   ]
  },
  {
   "cell_type": "code",
   "execution_count": 2,
   "id": "e84b0722",
   "metadata": {},
   "outputs": [],
   "source": [
    "qd_client = QdrantClient(\"http://localhost:6333\")"
   ]
  },
  {
   "cell_type": "code",
   "execution_count": 3,
   "id": "0533e384",
   "metadata": {},
   "outputs": [],
   "source": [
    "model = 'BAAI/bge-small-en'\n",
    "EMBEDDING_DIMENSIONALITY = 384\n",
    "collection_name = \"recipe_database\""
   ]
  },
  {
   "cell_type": "code",
   "execution_count": 4,
   "id": "499ad88f",
   "metadata": {},
   "outputs": [],
   "source": [
    "#qd_client.delete_collection(collection_name=collection_name)"
   ]
  },
  {
   "cell_type": "code",
   "execution_count": 5,
   "id": "dc43e611",
   "metadata": {},
   "outputs": [
    {
     "data": {
      "text/plain": [
       "True"
      ]
     },
     "execution_count": 5,
     "metadata": {},
     "output_type": "execute_result"
    }
   ],
   "source": [
    "qd_client.create_collection(\n",
    "    collection_name=collection_name,\n",
    "    vectors_config=models.VectorParams(\n",
    "        size=EMBEDDING_DIMENSIONALITY,\n",
    "        distance=models.Distance.COSINE\n",
    "    )\n",
    ")"
   ]
  },
  {
   "cell_type": "code",
   "execution_count": 6,
   "id": "271441b1",
   "metadata": {},
   "outputs": [
    {
     "data": {
      "text/plain": [
       "UpdateResult(operation_id=1, status=<UpdateStatus.COMPLETED: 'completed'>)"
      ]
     },
     "execution_count": 6,
     "metadata": {},
     "output_type": "execute_result"
    }
   ],
   "source": [
    "qd_client.create_payload_index(\n",
    "    collection_name=collection_name,\n",
    "    field_name=\"id\",\n",
    "    field_schema=\"keyword\"\n",
    ")"
   ]
  },
  {
   "cell_type": "code",
   "execution_count": 7,
   "id": "98c96f4f",
   "metadata": {},
   "outputs": [
    {
     "ename": "NameError",
     "evalue": "name 'documents' is not defined",
     "output_type": "error",
     "traceback": [
      "\u001b[31m---------------------------------------------------------------------------\u001b[39m",
      "\u001b[31mNameError\u001b[39m                                 Traceback (most recent call last)",
      "\u001b[36mCell\u001b[39m\u001b[36m \u001b[39m\u001b[32mIn[7]\u001b[39m\u001b[32m, line 3\u001b[39m\n\u001b[32m      1\u001b[39m points = []\n\u001b[32m----> \u001b[39m\u001b[32m3\u001b[39m \u001b[38;5;28;01mfor\u001b[39;00m i, doc \u001b[38;5;129;01min\u001b[39;00m \u001b[38;5;28menumerate\u001b[39m(\u001b[43mdocuments\u001b[49m):\n\u001b[32m      4\u001b[39m     text = \u001b[33m'\u001b[39m\u001b[33m \u001b[39m\u001b[33m'\u001b[39m.join(\u001b[38;5;28mstr\u001b[39m(doc.get(field, \u001b[33m\"\u001b[39m\u001b[33m\"\u001b[39m)) \u001b[38;5;28;01mfor\u001b[39;00m field \u001b[38;5;129;01min\u001b[39;00m df.columns \u001b[38;5;28;01mif\u001b[39;00m field != \u001b[33m\"\u001b[39m\u001b[33mid\u001b[39m\u001b[33m\"\u001b[39m)\n\u001b[32m      6\u001b[39m     vector = models.Document(text=text, model=model)\n",
      "\u001b[31mNameError\u001b[39m: name 'documents' is not defined"
     ]
    }
   ],
   "source": [
    "points = []\n",
    "\n",
    "for i, doc in enumerate(documents):\n",
    "    text = ' '.join(str(doc.get(field, \"\")) for field in df.columns if field != \"id\")\n",
    "\n",
    "    vector = models.Document(text=text, model=model)\n",
    "    point = models.PointStruct(\n",
    "        id=i,\n",
    "        vector=vector,\n",
    "        payload=doc\n",
    "    )\n",
    "    points.append(point)"
   ]
  },
  {
   "cell_type": "code",
   "execution_count": null,
   "id": "8fc6e0ce",
   "metadata": {},
   "outputs": [
    {
     "data": {
      "text/plain": [
       "UpdateResult(operation_id=0, status=<UpdateStatus.COMPLETED: 'completed'>)"
      ]
     },
     "metadata": {},
     "output_type": "display_data"
    }
   ],
   "source": [
    "qd_client.upsert(\n",
    "    collection_name=collection_name,\n",
    "    points=points\n",
    ")"
   ]
  },
  {
   "cell_type": "code",
   "execution_count": null,
   "id": "4306df03",
   "metadata": {},
   "outputs": [],
   "source": [
    "def vector_search(question):\n",
    "    print('vector_search is used')\n",
    "    \n",
    "    query_points = qd_client.query_points(\n",
    "        collection_name=collection_name,\n",
    "        query=models.Document(\n",
    "            text=question,\n",
    "            model=model\n",
    "        ),\n",
    "        limit=2,\n",
    "        with_payload=True\n",
    "    )\n",
    "    \n",
    "    results = []\n",
    "    \n",
    "    for point in query_points.points:\n",
    "        results.append(point.payload)\n",
    "    \n",
    "    return results"
   ]
  },
  {
   "cell_type": "code",
   "execution_count": null,
   "id": "ade8102e",
   "metadata": {},
   "outputs": [],
   "source": []
  },
  {
   "cell_type": "code",
   "execution_count": null,
   "id": "e118a096",
   "metadata": {},
   "outputs": [],
   "source": [
    "relevance_total = []\n",
    "\n",
    "for q in tqdm(ground_truth):\n",
    "    doc_id = q['id']\n",
    "    results = search(query=q['id'])\n",
    "    relevance = [d['id'] == doc_id for d in results]\n",
    "    relevance_total.append(relevance)"
   ]
  }
 ],
 "metadata": {
  "kernelspec": {
   "display_name": "venv",
   "language": "python",
   "name": "python3"
  },
  "language_info": {
   "codemirror_mode": {
    "name": "ipython",
    "version": 3
   },
   "file_extension": ".py",
   "mimetype": "text/x-python",
   "name": "python",
   "nbconvert_exporter": "python",
   "pygments_lexer": "ipython3",
   "version": "3.11.9"
  }
 },
 "nbformat": 4,
 "nbformat_minor": 5
}
