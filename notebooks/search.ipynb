{
 "cells": [
  {
   "cell_type": "code",
   "execution_count": 3,
   "id": "5c79797f",
   "metadata": {},
   "outputs": [
    {
     "name": "stdout",
     "output_type": "stream",
     "text": [
      "Collecting pandas\n",
      "  Using cached pandas-2.3.2-cp311-cp311-win_amd64.whl.metadata (19 kB)\n",
      "Collecting numpy>=1.23.2 (from pandas)\n",
      "  Using cached numpy-2.3.2-cp311-cp311-win_amd64.whl.metadata (60 kB)\n",
      "Requirement already satisfied: python-dateutil>=2.8.2 in c:\\users\\kabal\\documents\\study\\llm-zoomcamp\\baby_food_guide\\venv\\lib\\site-packages (from pandas) (2.9.0.post0)\n",
      "Collecting pytz>=2020.1 (from pandas)\n",
      "  Using cached pytz-2025.2-py2.py3-none-any.whl.metadata (22 kB)\n",
      "Collecting tzdata>=2022.7 (from pandas)\n",
      "  Using cached tzdata-2025.2-py2.py3-none-any.whl.metadata (1.4 kB)\n",
      "Requirement already satisfied: six>=1.5 in c:\\users\\kabal\\documents\\study\\llm-zoomcamp\\baby_food_guide\\venv\\lib\\site-packages (from python-dateutil>=2.8.2->pandas) (1.17.0)\n",
      "Using cached pandas-2.3.2-cp311-cp311-win_amd64.whl (11.3 MB)\n",
      "Using cached numpy-2.3.2-cp311-cp311-win_amd64.whl (13.1 MB)\n",
      "Using cached pytz-2025.2-py2.py3-none-any.whl (509 kB)\n",
      "Using cached tzdata-2025.2-py2.py3-none-any.whl (347 kB)\n",
      "Installing collected packages: pytz, tzdata, numpy, pandas\n",
      "Successfully installed numpy-2.3.2 pandas-2.3.2 pytz-2025.2 tzdata-2025.2\n"
     ]
    },
    {
     "name": "stderr",
     "output_type": "stream",
     "text": [
      "\n",
      "[notice] A new release of pip is available: 24.0 -> 25.2\n",
      "[notice] To update, run: python.exe -m pip install --upgrade pip\n"
     ]
    }
   ],
   "source": [
    "!pip install pandas"
   ]
  },
  {
   "cell_type": "code",
   "execution_count": 4,
   "id": "6134c622",
   "metadata": {},
   "outputs": [],
   "source": [
    "import pandas as pd"
   ]
  },
  {
   "cell_type": "code",
   "execution_count": 6,
   "id": "1cfc3a2f",
   "metadata": {},
   "outputs": [
    {
     "data": {
      "text/html": [
       "<div>\n",
       "<style scoped>\n",
       "    .dataframe tbody tr th:only-of-type {\n",
       "        vertical-align: middle;\n",
       "    }\n",
       "\n",
       "    .dataframe tbody tr th {\n",
       "        vertical-align: top;\n",
       "    }\n",
       "\n",
       "    .dataframe thead th {\n",
       "        text-align: right;\n",
       "    }\n",
       "</style>\n",
       "<table border=\"1\" class=\"dataframe\">\n",
       "  <thead>\n",
       "    <tr style=\"text-align: right;\">\n",
       "      <th></th>\n",
       "      <th>Dish Name</th>\n",
       "      <th>Baby Age</th>\n",
       "      <th>Iron-Rich</th>\n",
       "      <th>Allergen</th>\n",
       "      <th>Ingredients</th>\n",
       "      <th>Cooking Time (mins)</th>\n",
       "      <th>Recipe</th>\n",
       "      <th>Texture</th>\n",
       "      <th>Meal Type</th>\n",
       "      <th>Calories (approx)</th>\n",
       "      <th>Preparation Difficulty</th>\n",
       "    </tr>\n",
       "  </thead>\n",
       "  <tbody>\n",
       "    <tr>\n",
       "      <th>0</th>\n",
       "      <td>Cheese &amp; Broccoli Pasta 1</td>\n",
       "      <td>18-36 months</td>\n",
       "      <td>No</td>\n",
       "      <td>Gluten,Dairy</td>\n",
       "      <td>Small pasta, broccoli, cheese, butter</td>\n",
       "      <td>15</td>\n",
       "      <td>Cook pasta, steam broccoli, mix with cheese sauce</td>\n",
       "      <td>Soft Pieces</td>\n",
       "      <td>Dinner</td>\n",
       "      <td>200</td>\n",
       "      <td>Medium</td>\n",
       "    </tr>\n",
       "    <tr>\n",
       "      <th>1</th>\n",
       "      <td>Chicken &amp; Sweet Pea Purée 2</td>\n",
       "      <td>8-12 months</td>\n",
       "      <td>Yes</td>\n",
       "      <td>NaN</td>\n",
       "      <td>Chicken breast, peas, sweet potato, water</td>\n",
       "      <td>30</td>\n",
       "      <td>Steam chicken &amp; veggies, blend to purée</td>\n",
       "      <td>Purée</td>\n",
       "      <td>Dinner</td>\n",
       "      <td>120</td>\n",
       "      <td>Medium</td>\n",
       "    </tr>\n",
       "    <tr>\n",
       "      <th>2</th>\n",
       "      <td>Cheese &amp; Broccoli Pasta 3</td>\n",
       "      <td>18-36 months</td>\n",
       "      <td>No</td>\n",
       "      <td>Gluten,Dairy</td>\n",
       "      <td>Small pasta, broccoli, cheese, butter</td>\n",
       "      <td>15</td>\n",
       "      <td>Cook pasta, steam broccoli, mix with cheese sauce</td>\n",
       "      <td>Soft Pieces</td>\n",
       "      <td>Dinner</td>\n",
       "      <td>200</td>\n",
       "      <td>Easy</td>\n",
       "    </tr>\n",
       "    <tr>\n",
       "      <th>3</th>\n",
       "      <td>Chicken &amp; Sweet Pea Purée 4</td>\n",
       "      <td>8-12 months</td>\n",
       "      <td>Yes</td>\n",
       "      <td>NaN</td>\n",
       "      <td>Chicken breast, peas, sweet potato, water</td>\n",
       "      <td>30</td>\n",
       "      <td>Steam chicken &amp; veggies, blend to purée</td>\n",
       "      <td>Purée</td>\n",
       "      <td>Dinner</td>\n",
       "      <td>120</td>\n",
       "      <td>Medium</td>\n",
       "    </tr>\n",
       "    <tr>\n",
       "      <th>4</th>\n",
       "      <td>Mini Veggie Omelette Fingers 5</td>\n",
       "      <td>9-12 months</td>\n",
       "      <td>Yes</td>\n",
       "      <td>Egg</td>\n",
       "      <td>Eggs, spinach, cheese (optional), olive oil</td>\n",
       "      <td>15</td>\n",
       "      <td>Whisk eggs, cook with veggies, cut into finger...</td>\n",
       "      <td>Finger Food</td>\n",
       "      <td>Breakfast</td>\n",
       "      <td>150</td>\n",
       "      <td>Medium</td>\n",
       "    </tr>\n",
       "  </tbody>\n",
       "</table>\n",
       "</div>"
      ],
      "text/plain": [
       "                        Dish Name      Baby Age Iron-Rich      Allergen  \\\n",
       "0       Cheese & Broccoli Pasta 1  18-36 months        No  Gluten,Dairy   \n",
       "1     Chicken & Sweet Pea Purée 2   8-12 months       Yes           NaN   \n",
       "2       Cheese & Broccoli Pasta 3  18-36 months        No  Gluten,Dairy   \n",
       "3     Chicken & Sweet Pea Purée 4   8-12 months       Yes           NaN   \n",
       "4  Mini Veggie Omelette Fingers 5   9-12 months       Yes           Egg   \n",
       "\n",
       "                                   Ingredients  Cooking Time (mins)  \\\n",
       "0        Small pasta, broccoli, cheese, butter                   15   \n",
       "1    Chicken breast, peas, sweet potato, water                   30   \n",
       "2        Small pasta, broccoli, cheese, butter                   15   \n",
       "3    Chicken breast, peas, sweet potato, water                   30   \n",
       "4  Eggs, spinach, cheese (optional), olive oil                   15   \n",
       "\n",
       "                                              Recipe      Texture  Meal Type  \\\n",
       "0  Cook pasta, steam broccoli, mix with cheese sauce  Soft Pieces     Dinner   \n",
       "1            Steam chicken & veggies, blend to purée        Purée     Dinner   \n",
       "2  Cook pasta, steam broccoli, mix with cheese sauce  Soft Pieces     Dinner   \n",
       "3            Steam chicken & veggies, blend to purée        Purée     Dinner   \n",
       "4  Whisk eggs, cook with veggies, cut into finger...  Finger Food  Breakfast   \n",
       "\n",
       "   Calories (approx) Preparation Difficulty  \n",
       "0                200                 Medium  \n",
       "1                120                 Medium  \n",
       "2                200                   Easy  \n",
       "3                120                 Medium  \n",
       "4                150                 Medium  "
      ]
     },
     "execution_count": 6,
     "metadata": {},
     "output_type": "execute_result"
    }
   ],
   "source": [
    "df = pd.read_csv('../data/baby_recipes.csv', sep = ';')\n",
    "df.head()"
   ]
  },
  {
   "cell_type": "code",
   "execution_count": 9,
   "id": "0e188c01",
   "metadata": {},
   "outputs": [],
   "source": [
    "df.columns = df.columns.str.lower().str.replace(' ', '_')"
   ]
  },
  {
   "cell_type": "markdown",
   "id": "8421d007",
   "metadata": {},
   "source": [
    "# Vector search"
   ]
  },
  {
   "cell_type": "code",
   "execution_count": 2,
   "id": "96c67209",
   "metadata": {},
   "outputs": [],
   "source": [
    "from dotenv import load_dotenv\n",
    "import os\n",
    "from groq import Groq"
   ]
  },
  {
   "cell_type": "code",
   "execution_count": null,
   "id": "ff09c13e",
   "metadata": {},
   "outputs": [],
   "source": [
    "load_dotenv()\n",
    "\n",
    "client = Groq(api_key=os.getenv(\"GROQ_API_KEY\"))"
   ]
  },
  {
   "cell_type": "code",
   "execution_count": null,
   "id": "e02593e1",
   "metadata": {},
   "outputs": [],
   "source": []
  }
 ],
 "metadata": {
  "kernelspec": {
   "display_name": "venv",
   "language": "python",
   "name": "python3"
  },
  "language_info": {
   "codemirror_mode": {
    "name": "ipython",
    "version": 3
   },
   "file_extension": ".py",
   "mimetype": "text/x-python",
   "name": "python",
   "nbconvert_exporter": "python",
   "pygments_lexer": "ipython3",
   "version": "3.11.9"
  }
 },
 "nbformat": 4,
 "nbformat_minor": 5
}
