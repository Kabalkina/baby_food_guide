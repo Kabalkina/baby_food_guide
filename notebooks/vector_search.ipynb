{
 "cells": [
  {
   "cell_type": "code",
   "execution_count": 8,
   "id": "6134c622",
   "metadata": {},
   "outputs": [],
   "source": [
    "import pandas as pd"
   ]
  },
  {
   "cell_type": "code",
   "execution_count": 141,
   "id": "1cfc3a2f",
   "metadata": {},
   "outputs": [
    {
     "data": {
      "text/html": [
       "<div>\n",
       "<style scoped>\n",
       "    .dataframe tbody tr th:only-of-type {\n",
       "        vertical-align: middle;\n",
       "    }\n",
       "\n",
       "    .dataframe tbody tr th {\n",
       "        vertical-align: top;\n",
       "    }\n",
       "\n",
       "    .dataframe thead th {\n",
       "        text-align: right;\n",
       "    }\n",
       "</style>\n",
       "<table border=\"1\" class=\"dataframe\">\n",
       "  <thead>\n",
       "    <tr style=\"text-align: right;\">\n",
       "      <th></th>\n",
       "      <th>Dish Name</th>\n",
       "      <th>Baby Age</th>\n",
       "      <th>Iron-Rich</th>\n",
       "      <th>Allergen</th>\n",
       "      <th>Ingredients</th>\n",
       "      <th>Cooking Time (mins)</th>\n",
       "      <th>Recipe</th>\n",
       "      <th>Texture</th>\n",
       "      <th>Meal Type</th>\n",
       "      <th>Calories (approx)</th>\n",
       "      <th>Preparation Difficulty</th>\n",
       "    </tr>\n",
       "  </thead>\n",
       "  <tbody>\n",
       "    <tr>\n",
       "      <th>0</th>\n",
       "      <td>Spinach &amp; Mango Salmon Delight</td>\n",
       "      <td>8-12 months</td>\n",
       "      <td>Yes</td>\n",
       "      <td>NaN</td>\n",
       "      <td>Spinach, Mango, Salmon, Quinoa</td>\n",
       "      <td>24</td>\n",
       "      <td>Cook Spinach, Mango, Salmon, Quinoa until soft...</td>\n",
       "      <td>Finger Food</td>\n",
       "      <td>Dinner</td>\n",
       "      <td>119</td>\n",
       "      <td>Medium</td>\n",
       "    </tr>\n",
       "    <tr>\n",
       "      <th>1</th>\n",
       "      <td>Sweet Potato &amp; Plum Cod Delight</td>\n",
       "      <td>12-18 months</td>\n",
       "      <td>Yes</td>\n",
       "      <td>Dairy</td>\n",
       "      <td>Sweet Potato, Plum, Cod, Rice, Cheese</td>\n",
       "      <td>28</td>\n",
       "      <td>Cook Sweet Potato, Plum, Cod, Rice, Cheese unt...</td>\n",
       "      <td>Purée</td>\n",
       "      <td>Lunch</td>\n",
       "      <td>124</td>\n",
       "      <td>Medium</td>\n",
       "    </tr>\n",
       "    <tr>\n",
       "      <th>2</th>\n",
       "      <td>Beetroot &amp; Kiwi Chickpeas Delight</td>\n",
       "      <td>8-12 months</td>\n",
       "      <td>Yes</td>\n",
       "      <td>Gluten</td>\n",
       "      <td>Beetroot, Kiwi, Chickpeas, Millet, Yogurt</td>\n",
       "      <td>23</td>\n",
       "      <td>Cook Beetroot, Kiwi, Chickpeas, Millet, Yogurt...</td>\n",
       "      <td>Mash</td>\n",
       "      <td>Breakfast</td>\n",
       "      <td>67</td>\n",
       "      <td>Medium</td>\n",
       "    </tr>\n",
       "    <tr>\n",
       "      <th>3</th>\n",
       "      <td>Spinach &amp; Pear Cod Delight</td>\n",
       "      <td>9-12 months</td>\n",
       "      <td>Yes</td>\n",
       "      <td>Fish</td>\n",
       "      <td>Spinach, Pear, Cod, Oats, Cheese</td>\n",
       "      <td>18</td>\n",
       "      <td>Cook Spinach, Pear, Cod, Oats, Cheese until so...</td>\n",
       "      <td>Finger Food</td>\n",
       "      <td>Dinner</td>\n",
       "      <td>76</td>\n",
       "      <td>Easy</td>\n",
       "    </tr>\n",
       "    <tr>\n",
       "      <th>4</th>\n",
       "      <td>Sweet Potato &amp; Blueberry Chicken Delight</td>\n",
       "      <td>18-36 months</td>\n",
       "      <td>Yes</td>\n",
       "      <td>Gluten</td>\n",
       "      <td>Sweet Potato, Blueberry, Chicken, Whole Wheat ...</td>\n",
       "      <td>5</td>\n",
       "      <td>Cook Sweet Potato, Blueberry, Chicken, Whole W...</td>\n",
       "      <td>Mash</td>\n",
       "      <td>Breakfast</td>\n",
       "      <td>116</td>\n",
       "      <td>Medium</td>\n",
       "    </tr>\n",
       "  </tbody>\n",
       "</table>\n",
       "</div>"
      ],
      "text/plain": [
       "                                  Dish Name      Baby Age Iron-Rich Allergen  \\\n",
       "0            Spinach & Mango Salmon Delight   8-12 months       Yes      NaN   \n",
       "1           Sweet Potato & Plum Cod Delight  12-18 months       Yes    Dairy   \n",
       "2         Beetroot & Kiwi Chickpeas Delight   8-12 months       Yes   Gluten   \n",
       "3                Spinach & Pear Cod Delight   9-12 months       Yes     Fish   \n",
       "4  Sweet Potato & Blueberry Chicken Delight  18-36 months       Yes   Gluten   \n",
       "\n",
       "                                         Ingredients  Cooking Time (mins)  \\\n",
       "0                     Spinach, Mango, Salmon, Quinoa                   24   \n",
       "1              Sweet Potato, Plum, Cod, Rice, Cheese                   28   \n",
       "2          Beetroot, Kiwi, Chickpeas, Millet, Yogurt                   23   \n",
       "3                   Spinach, Pear, Cod, Oats, Cheese                   18   \n",
       "4  Sweet Potato, Blueberry, Chicken, Whole Wheat ...                    5   \n",
       "\n",
       "                                              Recipe      Texture  Meal Type  \\\n",
       "0  Cook Spinach, Mango, Salmon, Quinoa until soft...  Finger Food     Dinner   \n",
       "1  Cook Sweet Potato, Plum, Cod, Rice, Cheese unt...        Purée      Lunch   \n",
       "2  Cook Beetroot, Kiwi, Chickpeas, Millet, Yogurt...         Mash  Breakfast   \n",
       "3  Cook Spinach, Pear, Cod, Oats, Cheese until so...  Finger Food     Dinner   \n",
       "4  Cook Sweet Potato, Blueberry, Chicken, Whole W...         Mash  Breakfast   \n",
       "\n",
       "   Calories (approx) Preparation Difficulty  \n",
       "0                119                 Medium  \n",
       "1                124                 Medium  \n",
       "2                 67                 Medium  \n",
       "3                 76                   Easy  \n",
       "4                116                 Medium  "
      ]
     },
     "execution_count": 141,
     "metadata": {},
     "output_type": "execute_result"
    }
   ],
   "source": [
    "df = pd.read_csv('../data/baby_recipes_500_unique.csv', sep = ';')\n",
    "df.head()"
   ]
  },
  {
   "cell_type": "code",
   "execution_count": 142,
   "id": "0e188c01",
   "metadata": {},
   "outputs": [],
   "source": [
    "df.columns = df.columns.str.lower().str.replace(' ', '_')\n",
    "df['allergen'] = df['allergen'].fillna('no')\n",
    "df.rename(columns={'iron-rich': 'iron_rich',\n",
    "                   'cooking_time_(mins)': 'cooking_time', \n",
    "                   'calories_(approx)': 'calories'}, inplace=True)"
   ]
  },
  {
   "cell_type": "code",
   "execution_count": null,
   "id": "0a98b735",
   "metadata": {},
   "outputs": [],
   "source": [
    "documents = df.to_dict(orient='records')\n",
    "documents[0]"
   ]
  },
  {
   "cell_type": "markdown",
   "id": "8421d007",
   "metadata": {},
   "source": [
    "# Vector search"
   ]
  },
  {
   "cell_type": "code",
   "execution_count": 144,
   "id": "96c67209",
   "metadata": {},
   "outputs": [],
   "source": [
    "from dotenv import load_dotenv\n",
    "import os\n",
    "from groq import Groq"
   ]
  },
  {
   "cell_type": "code",
   "execution_count": 145,
   "id": "ff09c13e",
   "metadata": {},
   "outputs": [],
   "source": [
    "load_dotenv()\n",
    "\n",
    "groq_client = Groq(api_key=os.getenv(\"GROQ_API_KEY\"))"
   ]
  },
  {
   "cell_type": "code",
   "execution_count": 146,
   "id": "e02593e1",
   "metadata": {},
   "outputs": [],
   "source": [
    "from qdrant_client import QdrantClient, models"
   ]
  },
  {
   "cell_type": "code",
   "execution_count": 147,
   "id": "fab5f0c2",
   "metadata": {},
   "outputs": [],
   "source": [
    "qd_client = QdrantClient(\"http://localhost:6333\")"
   ]
  },
  {
   "cell_type": "code",
   "execution_count": 148,
   "id": "4d4c2055",
   "metadata": {},
   "outputs": [],
   "source": [
    "model = 'BAAI/bge-small-en'\n",
    "EMBEDDING_DIMENSIONALITY = 384\n",
    "collection_name = \"recipe_database\""
   ]
  },
  {
   "cell_type": "code",
   "execution_count": 149,
   "id": "ee5e14aa",
   "metadata": {},
   "outputs": [
    {
     "data": {
      "text/plain": [
       "True"
      ]
     },
     "execution_count": 149,
     "metadata": {},
     "output_type": "execute_result"
    }
   ],
   "source": [
    "qd_client.delete_collection(collection_name=collection_name)"
   ]
  },
  {
   "cell_type": "code",
   "execution_count": 150,
   "id": "242f2892",
   "metadata": {},
   "outputs": [
    {
     "data": {
      "text/plain": [
       "True"
      ]
     },
     "execution_count": 150,
     "metadata": {},
     "output_type": "execute_result"
    }
   ],
   "source": [
    "qd_client.create_collection(\n",
    "    collection_name=collection_name,\n",
    "    vectors_config=models.VectorParams(\n",
    "        size=EMBEDDING_DIMENSIONALITY,\n",
    "        distance=models.Distance.COSINE\n",
    "    )\n",
    ")"
   ]
  },
  {
   "cell_type": "code",
   "execution_count": 152,
   "id": "be800606",
   "metadata": {},
   "outputs": [],
   "source": [
    "points = []\n",
    "\n",
    "for i, doc in enumerate(documents):\n",
    "    text = ' '.join(str(doc.get(field, \"\")) for field in df.columns)\n",
    "\n",
    "    vector = models.Document(text=text, model=model)\n",
    "    point = models.PointStruct(\n",
    "        id=i,\n",
    "        vector=vector,\n",
    "        payload=doc\n",
    "    )\n",
    "    points.append(point)"
   ]
  },
  {
   "cell_type": "code",
   "execution_count": 153,
   "id": "5217fcee",
   "metadata": {},
   "outputs": [
    {
     "data": {
      "text/plain": [
       "UpdateResult(operation_id=0, status=<UpdateStatus.COMPLETED: 'completed'>)"
      ]
     },
     "execution_count": 153,
     "metadata": {},
     "output_type": "execute_result"
    }
   ],
   "source": [
    "qd_client.upsert(\n",
    "    collection_name=collection_name,\n",
    "    points=points\n",
    ")"
   ]
  },
  {
   "cell_type": "code",
   "execution_count": 154,
   "id": "71a1ac63",
   "metadata": {},
   "outputs": [],
   "source": [
    "def vector_search(question):\n",
    "    print('vector_search is used')\n",
    "    \n",
    "    query_points = qd_client.query_points(\n",
    "        collection_name=collection_name,\n",
    "        query=models.Document(\n",
    "            text=question,\n",
    "            model=model\n",
    "        ),\n",
    "        limit=2,\n",
    "        with_payload=True\n",
    "    )\n",
    "    \n",
    "    results = []\n",
    "    \n",
    "    for point in query_points.points:\n",
    "        results.append(point.payload)\n",
    "    \n",
    "    return results"
   ]
  },
  {
   "cell_type": "code",
   "execution_count": 155,
   "id": "2cdf10bc",
   "metadata": {},
   "outputs": [
    {
     "data": {
      "text/plain": [
       "Index(['dish_name', 'baby_age', 'iron_rich', 'allergen', 'ingredients',\n",
       "       'cooking_time', 'recipe', 'texture', 'meal_type', 'calories',\n",
       "       'preparation_difficulty'],\n",
       "      dtype='object')"
      ]
     },
     "execution_count": 155,
     "metadata": {},
     "output_type": "execute_result"
    }
   ],
   "source": [
    "df.columns"
   ]
  },
  {
   "cell_type": "code",
   "execution_count": 156,
   "id": "f5c8ddbd",
   "metadata": {},
   "outputs": [],
   "source": [
    "prompt_template = \"\"\"\n",
    "You are a helpful AI food assistant. Answer the QUESTION using only the information in CONTEXT. \n",
    "If the answer is not in CONTEXT, say you don't know.\n",
    "\n",
    "Provide concise, factual answers with a recipe per dish. If multiple dishes match, summarize clearly.\n",
    "\n",
    "QUESTION: {question}\n",
    "\n",
    "CONTEXT:\n",
    "{context}\n",
    "\"\"\".strip()\n",
    "\n",
    "entry_template = \"\"\"\n",
    "'dish_name': '{dish_name}',\n",
    "'baby_age' : {baby_age},\n",
    "'iron_rich': {iron_rich},\n",
    "'allergen': {allergen},\n",
    "'ingredients': '{ingredients}',\n",
    "'cooking_time': {cooking_time},\n",
    "'texture': '{texture}',\n",
    "'meal_type': '{meal_type}',\n",
    "'calories': {calories},\n",
    "'preparation_difficulty': '{preparation_difficulty}',\n",
    "'recipe': '{recipe}'\n",
    "\"\"\".strip()\n",
    "\n",
    "\n",
    "def build_prompt(query, search_results):\n",
    "\n",
    "    context = \"\"\n",
    "\n",
    "    for doc in search_results:\n",
    "        context = context + entry_template.format(**doc) + \"\\n\\n\"\n",
    "\n",
    "    prompt = prompt_template.format(question=query, context=context).strip()\n",
    "    return prompt\n"
   ]
  },
  {
   "cell_type": "code",
   "execution_count": 157,
   "id": "9a4ca409",
   "metadata": {},
   "outputs": [],
   "source": [
    "import re"
   ]
  },
  {
   "cell_type": "code",
   "execution_count": 158,
   "id": "16e2bf79",
   "metadata": {},
   "outputs": [],
   "source": [
    "def llm(prompt):\n",
    "    response = groq_client.chat.completions.create(\n",
    "        model='qwen/qwen3-32b',\n",
    "        messages=[{\"role\": \"user\", \"content\": prompt}]\n",
    "    )\n",
    "    final_answer = response.choices[0].message.content\n",
    "\n",
    "    return re.sub(r\"<think>.*?</think>\\s*\", \"\", final_answer, flags=re.DOTALL).strip()"
   ]
  },
  {
   "cell_type": "code",
   "execution_count": 159,
   "id": "c42eb46b",
   "metadata": {},
   "outputs": [],
   "source": [
    "def rag(query):\n",
    "    search_results = vector_search(query)\n",
    "    prompt = build_prompt(query, search_results)\n",
    "    answer = llm(prompt)\n",
    "    return answer"
   ]
  },
  {
   "cell_type": "markdown",
   "id": "aa26b25c",
   "metadata": {},
   "source": [
    "# Test run"
   ]
  },
  {
   "cell_type": "code",
   "execution_count": 160,
   "id": "cb50bad7",
   "metadata": {},
   "outputs": [],
   "source": [
    "question = \"What are good iron-rich meals for a 11-month-old?\""
   ]
  },
  {
   "cell_type": "code",
   "execution_count": 161,
   "id": "58726ec6",
   "metadata": {},
   "outputs": [
    {
     "name": "stdout",
     "output_type": "stream",
     "text": [
      "vector_search is used\n"
     ]
    }
   ],
   "source": [
    "search_results = vector_search(question)"
   ]
  },
  {
   "cell_type": "code",
   "execution_count": 162,
   "id": "d469f308",
   "metadata": {},
   "outputs": [],
   "source": [
    "answer = build_prompt(question, search_results)"
   ]
  },
  {
   "cell_type": "code",
   "execution_count": 163,
   "id": "b397d19a",
   "metadata": {},
   "outputs": [
    {
     "name": "stdout",
     "output_type": "stream",
     "text": [
      "The provided CONTEXT includes two iron-rich meals suitable for a 11-month-old, though originally recommended for 7–10 months. Adjust textures if needed for readiness.\n",
      "\n",
      "1. **Butternut Squash & Apple Tofu Delight**  \n",
      "   - **Allergen**: Gluten  \n",
      "   - **Recipe**: Cook butternut squash, apple, tofu, rice, and cheese until soft. Purée and serve warm.  \n",
      "\n",
      "2. **Spinach & Blueberry Chicken Delight**  \n",
      "   - **Allergen**: Egg  \n",
      "   - **Recipe**: Cook spinach, blueberry, chicken, whole wheat pasta, and milk until soft. Mash into finger food or purée and serve warm.  \n",
      "\n",
      "Always check for allergies and adjust consistency based on the baby’s developmental stage.\n"
     ]
    }
   ],
   "source": [
    "print(llm(answer))"
   ]
  },
  {
   "cell_type": "code",
   "execution_count": null,
   "id": "68be684d",
   "metadata": {},
   "outputs": [],
   "source": []
  }
 ],
 "metadata": {
  "kernelspec": {
   "display_name": "venv",
   "language": "python",
   "name": "python3"
  },
  "language_info": {
   "codemirror_mode": {
    "name": "ipython",
    "version": 3
   },
   "file_extension": ".py",
   "mimetype": "text/x-python",
   "name": "python",
   "nbconvert_exporter": "python",
   "pygments_lexer": "ipython3",
   "version": "3.11.9"
  }
 },
 "nbformat": 4,
 "nbformat_minor": 5
}
