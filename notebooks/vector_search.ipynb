{
 "cells": [
  {
   "cell_type": "code",
   "execution_count": 1,
   "id": "6134c622",
   "metadata": {},
   "outputs": [],
   "source": [
    "import pandas as pd"
   ]
  },
  {
   "cell_type": "code",
   "execution_count": null,
   "id": "1cfc3a2f",
   "metadata": {},
   "outputs": [
    {
     "data": {
      "text/html": [
       "<div>\n",
       "<style scoped>\n",
       "    .dataframe tbody tr th:only-of-type {\n",
       "        vertical-align: middle;\n",
       "    }\n",
       "\n",
       "    .dataframe tbody tr th {\n",
       "        vertical-align: top;\n",
       "    }\n",
       "\n",
       "    .dataframe thead th {\n",
       "        text-align: right;\n",
       "    }\n",
       "</style>\n",
       "<table border=\"1\" class=\"dataframe\">\n",
       "  <thead>\n",
       "    <tr style=\"text-align: right;\">\n",
       "      <th></th>\n",
       "      <th>Dish Name</th>\n",
       "      <th>Baby Age</th>\n",
       "      <th>Iron-Rich</th>\n",
       "      <th>Allergen</th>\n",
       "      <th>Ingredients</th>\n",
       "      <th>Cooking Time (mins)</th>\n",
       "      <th>Recipe</th>\n",
       "      <th>Texture</th>\n",
       "      <th>Meal Type</th>\n",
       "      <th>Calories (approx)</th>\n",
       "      <th>Preparation Difficulty</th>\n",
       "    </tr>\n",
       "  </thead>\n",
       "  <tbody>\n",
       "    <tr>\n",
       "      <th>0</th>\n",
       "      <td>Sweet Potato Purée</td>\n",
       "      <td>6-8 months</td>\n",
       "      <td>No</td>\n",
       "      <td>Dairy</td>\n",
       "      <td>sweet potato, water or breastmilk/formula</td>\n",
       "      <td>15</td>\n",
       "      <td>Wash and prep ingredients: sweet potato, water...</td>\n",
       "      <td>Purée</td>\n",
       "      <td>Breakfast</td>\n",
       "      <td>160</td>\n",
       "      <td>Easy</td>\n",
       "    </tr>\n",
       "    <tr>\n",
       "      <th>1</th>\n",
       "      <td>Carrot Purée</td>\n",
       "      <td>6-8 months</td>\n",
       "      <td>No</td>\n",
       "      <td>Dairy</td>\n",
       "      <td>carrot, water or breastmilk/formula</td>\n",
       "      <td>15</td>\n",
       "      <td>Wash and prep ingredients: carrot, water or br...</td>\n",
       "      <td>Purée</td>\n",
       "      <td>Breakfast</td>\n",
       "      <td>130</td>\n",
       "      <td>Easy</td>\n",
       "    </tr>\n",
       "    <tr>\n",
       "      <th>2</th>\n",
       "      <td>Pumpkin Purée</td>\n",
       "      <td>6-8 months</td>\n",
       "      <td>No</td>\n",
       "      <td>Dairy</td>\n",
       "      <td>pumpkin, water or breastmilk/formula</td>\n",
       "      <td>15</td>\n",
       "      <td>Wash and prep ingredients: pumpkin, water or b...</td>\n",
       "      <td>Purée</td>\n",
       "      <td>Breakfast</td>\n",
       "      <td>130</td>\n",
       "      <td>Easy</td>\n",
       "    </tr>\n",
       "    <tr>\n",
       "      <th>3</th>\n",
       "      <td>Pea Purée</td>\n",
       "      <td>6-8 months</td>\n",
       "      <td>No</td>\n",
       "      <td>NaN</td>\n",
       "      <td>peas, water</td>\n",
       "      <td>15</td>\n",
       "      <td>Wash and prep ingredients: peas, water. Steam ...</td>\n",
       "      <td>Purée</td>\n",
       "      <td>Breakfast</td>\n",
       "      <td>90</td>\n",
       "      <td>Easy</td>\n",
       "    </tr>\n",
       "    <tr>\n",
       "      <th>4</th>\n",
       "      <td>Zucchini Purée</td>\n",
       "      <td>6-8 months</td>\n",
       "      <td>No</td>\n",
       "      <td>NaN</td>\n",
       "      <td>zucchini, water</td>\n",
       "      <td>15</td>\n",
       "      <td>Wash and prep ingredients: zucchini, water. St...</td>\n",
       "      <td>Purée</td>\n",
       "      <td>Breakfast</td>\n",
       "      <td>90</td>\n",
       "      <td>Easy</td>\n",
       "    </tr>\n",
       "  </tbody>\n",
       "</table>\n",
       "</div>"
      ],
      "text/plain": [
       "            Dish Name    Baby Age Iron-Rich Allergen  \\\n",
       "0  Sweet Potato Purée  6-8 months        No    Dairy   \n",
       "1        Carrot Purée  6-8 months        No    Dairy   \n",
       "2       Pumpkin Purée  6-8 months        No    Dairy   \n",
       "3           Pea Purée  6-8 months        No      NaN   \n",
       "4      Zucchini Purée  6-8 months        No      NaN   \n",
       "\n",
       "                                 Ingredients  Cooking Time (mins)  \\\n",
       "0  sweet potato, water or breastmilk/formula                   15   \n",
       "1        carrot, water or breastmilk/formula                   15   \n",
       "2       pumpkin, water or breastmilk/formula                   15   \n",
       "3                                peas, water                   15   \n",
       "4                            zucchini, water                   15   \n",
       "\n",
       "                                              Recipe Texture  Meal Type  \\\n",
       "0  Wash and prep ingredients: sweet potato, water...   Purée  Breakfast   \n",
       "1  Wash and prep ingredients: carrot, water or br...   Purée  Breakfast   \n",
       "2  Wash and prep ingredients: pumpkin, water or b...   Purée  Breakfast   \n",
       "3  Wash and prep ingredients: peas, water. Steam ...   Purée  Breakfast   \n",
       "4  Wash and prep ingredients: zucchini, water. St...   Purée  Breakfast   \n",
       "\n",
       "   Calories (approx) Preparation Difficulty  \n",
       "0                160                   Easy  \n",
       "1                130                   Easy  \n",
       "2                130                   Easy  \n",
       "3                 90                   Easy  \n",
       "4                 90                   Easy  "
      ]
     },
     "execution_count": 3,
     "metadata": {},
     "output_type": "execute_result"
    }
   ],
   "source": [
    "df = pd.read_csv('../data/baby_recipes.csv', sep = ';')\n",
    "df.head()"
   ]
  },
  {
   "cell_type": "code",
   "execution_count": 4,
   "id": "0e188c01",
   "metadata": {},
   "outputs": [],
   "source": [
    "df.columns = df.columns.str.lower().str.replace(' ', '_')\n",
    "df['allergen'] = df['allergen'].fillna('no')\n",
    "df.rename(columns={'iron-rich': 'iron_rich',\n",
    "                   'cooking_time_(mins)': 'cooking_time', \n",
    "                   'calories_(approx)': 'calories'}, inplace=True)"
   ]
  },
  {
   "cell_type": "code",
   "execution_count": 25,
   "id": "19dc1a94",
   "metadata": {},
   "outputs": [],
   "source": [
    "#add an id in the beginning\n",
    "df.insert(0, 'id', range(1, 1 + len(df)))"
   ]
  },
  {
   "cell_type": "code",
   "execution_count": 26,
   "id": "9a3c3d98",
   "metadata": {},
   "outputs": [],
   "source": [
    "df.to_csv('../data/baby_recipes_cleaned.csv', sep=';', index=False)"
   ]
  },
  {
   "cell_type": "code",
   "execution_count": 5,
   "id": "0a98b735",
   "metadata": {},
   "outputs": [
    {
     "data": {
      "text/plain": [
       "{'dish_name': 'Sweet Potato Purée',\n",
       " 'baby_age': '6-8 months',\n",
       " 'iron_rich': 'No',\n",
       " 'allergen': 'Dairy',\n",
       " 'ingredients': 'sweet potato, water or breastmilk/formula',\n",
       " 'cooking_time': 15,\n",
       " 'recipe': 'Wash and prep ingredients: sweet potato, water or breastmilk/formula. Steam or gently simmer vegetables/fruit until fork-tender. Blend with a splash of cooking water or breastmilk/formula until smooth. Cool before serving. Store in the fridge up to 2 days or freeze portions up to 1 month.',\n",
       " 'texture': 'Purée',\n",
       " 'meal_type': 'Breakfast',\n",
       " 'calories': 160,\n",
       " 'preparation_difficulty': 'Easy'}"
      ]
     },
     "execution_count": 5,
     "metadata": {},
     "output_type": "execute_result"
    }
   ],
   "source": [
    "documents = df.to_dict(orient='records')\n",
    "documents[0]"
   ]
  },
  {
   "cell_type": "markdown",
   "id": "8421d007",
   "metadata": {},
   "source": [
    "# Vector search"
   ]
  },
  {
   "cell_type": "code",
   "execution_count": 6,
   "id": "96c67209",
   "metadata": {},
   "outputs": [],
   "source": [
    "from dotenv import load_dotenv\n",
    "import os\n",
    "from groq import Groq"
   ]
  },
  {
   "cell_type": "code",
   "execution_count": 7,
   "id": "ff09c13e",
   "metadata": {},
   "outputs": [],
   "source": [
    "load_dotenv()\n",
    "\n",
    "groq_client = Groq(api_key=os.getenv(\"GROQ_API_KEY\"))"
   ]
  },
  {
   "cell_type": "code",
   "execution_count": 8,
   "id": "e02593e1",
   "metadata": {},
   "outputs": [],
   "source": [
    "from qdrant_client import QdrantClient, models"
   ]
  },
  {
   "cell_type": "code",
   "execution_count": 9,
   "id": "fab5f0c2",
   "metadata": {},
   "outputs": [],
   "source": [
    "qd_client = QdrantClient(\"http://localhost:6333\")"
   ]
  },
  {
   "cell_type": "code",
   "execution_count": 10,
   "id": "4d4c2055",
   "metadata": {},
   "outputs": [],
   "source": [
    "model = 'BAAI/bge-small-en'\n",
    "EMBEDDING_DIMENSIONALITY = 384\n",
    "collection_name = \"recipe_database\""
   ]
  },
  {
   "cell_type": "code",
   "execution_count": 11,
   "id": "ee5e14aa",
   "metadata": {},
   "outputs": [
    {
     "data": {
      "text/plain": [
       "False"
      ]
     },
     "execution_count": 11,
     "metadata": {},
     "output_type": "execute_result"
    }
   ],
   "source": [
    "qd_client.delete_collection(collection_name=collection_name)"
   ]
  },
  {
   "cell_type": "code",
   "execution_count": 12,
   "id": "242f2892",
   "metadata": {},
   "outputs": [
    {
     "data": {
      "text/plain": [
       "True"
      ]
     },
     "execution_count": 12,
     "metadata": {},
     "output_type": "execute_result"
    }
   ],
   "source": [
    "qd_client.create_collection(\n",
    "    collection_name=collection_name,\n",
    "    vectors_config=models.VectorParams(\n",
    "        size=EMBEDDING_DIMENSIONALITY,\n",
    "        distance=models.Distance.COSINE\n",
    "    )\n",
    ")"
   ]
  },
  {
   "cell_type": "code",
   "execution_count": null,
   "id": "20986f11",
   "metadata": {},
   "outputs": [],
   "source": [
    "qd_client.create_payload_index(\n",
    "    collection_name=collection_name,\n",
    "    field_name=\"id\",\n",
    "    field_schema=\"keyword\"\n",
    ")"
   ]
  },
  {
   "cell_type": "code",
   "execution_count": null,
   "id": "be800606",
   "metadata": {},
   "outputs": [],
   "source": [
    "points = []\n",
    "\n",
    "for i, doc in enumerate(documents):\n",
    "    text = ' '.join(str(doc.get(field, \"\")) for field in df.columns if field != \"id\")\n",
    "\n",
    "    vector = models.Document(text=text, model=model)\n",
    "    point = models.PointStruct(\n",
    "        id=i,\n",
    "        vector=vector,\n",
    "        payload=doc\n",
    "    )\n",
    "    points.append(point)"
   ]
  },
  {
   "cell_type": "code",
   "execution_count": 14,
   "id": "5217fcee",
   "metadata": {},
   "outputs": [
    {
     "data": {
      "text/plain": [
       "UpdateResult(operation_id=0, status=<UpdateStatus.COMPLETED: 'completed'>)"
      ]
     },
     "execution_count": 14,
     "metadata": {},
     "output_type": "execute_result"
    }
   ],
   "source": [
    "qd_client.upsert(\n",
    "    collection_name=collection_name,\n",
    "    points=points\n",
    ")"
   ]
  },
  {
   "cell_type": "code",
   "execution_count": 15,
   "id": "71a1ac63",
   "metadata": {},
   "outputs": [],
   "source": [
    "def vector_search(question):\n",
    "    print('vector_search is used')\n",
    "    \n",
    "    query_points = qd_client.query_points(\n",
    "        collection_name=collection_name,\n",
    "        query=models.Document(\n",
    "            text=question,\n",
    "            model=model\n",
    "        ),\n",
    "        limit=2,\n",
    "        with_payload=True\n",
    "    )\n",
    "    \n",
    "    results = []\n",
    "    \n",
    "    for point in query_points.points:\n",
    "        results.append(point.payload)\n",
    "    \n",
    "    return results"
   ]
  },
  {
   "cell_type": "code",
   "execution_count": 17,
   "id": "f5c8ddbd",
   "metadata": {},
   "outputs": [],
   "source": [
    "prompt_template = \"\"\"\n",
    "You are a helpful AI food assistant. Answer the QUESTION using only the information in CONTEXT. \n",
    "If the answer is not in CONTEXT, say you don't know.\n",
    "\n",
    "Provide concise, factual answers with a recipe per dish. If multiple dishes match, summarize clearly.\n",
    "\n",
    "QUESTION: {question}\n",
    "\n",
    "CONTEXT:\n",
    "{context}\n",
    "\"\"\".strip()\n",
    "\n",
    "entry_template = \"\"\"\n",
    "'dish_name': '{dish_name}',\n",
    "'baby_age' : {baby_age},\n",
    "'iron_rich': {iron_rich},\n",
    "'allergen': {allergen},\n",
    "'ingredients': '{ingredients}',\n",
    "'cooking_time': {cooking_time},\n",
    "'texture': '{texture}',\n",
    "'meal_type': '{meal_type}',\n",
    "'calories': {calories},\n",
    "'preparation_difficulty': '{preparation_difficulty}',\n",
    "'recipe': '{recipe}'\n",
    "\"\"\".strip()\n",
    "\n",
    "\n",
    "def build_prompt(query, search_results):\n",
    "\n",
    "    context = \"\"\n",
    "\n",
    "    for doc in search_results:\n",
    "        context = context + entry_template.format(**doc) + \"\\n\\n\"\n",
    "\n",
    "    prompt = prompt_template.format(question=query, context=context).strip()\n",
    "    return prompt\n"
   ]
  },
  {
   "cell_type": "code",
   "execution_count": 18,
   "id": "9a4ca409",
   "metadata": {},
   "outputs": [],
   "source": [
    "import re"
   ]
  },
  {
   "cell_type": "code",
   "execution_count": 19,
   "id": "16e2bf79",
   "metadata": {},
   "outputs": [],
   "source": [
    "def llm(prompt):\n",
    "    response = groq_client.chat.completions.create(\n",
    "        model='qwen/qwen3-32b',\n",
    "        messages=[{\"role\": \"user\", \"content\": prompt}]\n",
    "    )\n",
    "    final_answer = response.choices[0].message.content\n",
    "\n",
    "    return re.sub(r\"<think>.*?</think>\\s*\", \"\", final_answer, flags=re.DOTALL).strip()"
   ]
  },
  {
   "cell_type": "code",
   "execution_count": 20,
   "id": "c42eb46b",
   "metadata": {},
   "outputs": [],
   "source": [
    "def rag(query):\n",
    "    search_results = vector_search(query)\n",
    "    prompt = build_prompt(query, search_results)\n",
    "    answer = llm(prompt)\n",
    "    return answer"
   ]
  },
  {
   "cell_type": "markdown",
   "id": "aa26b25c",
   "metadata": {},
   "source": [
    "# Test run"
   ]
  },
  {
   "cell_type": "code",
   "execution_count": 21,
   "id": "cb50bad7",
   "metadata": {},
   "outputs": [],
   "source": [
    "question = \"What are good iron-rich meals for a 11-month-old?\""
   ]
  },
  {
   "cell_type": "code",
   "execution_count": 23,
   "id": "80ee4e02",
   "metadata": {},
   "outputs": [
    {
     "name": "stdout",
     "output_type": "stream",
     "text": [
      "vector_search is used\n",
      "For an 11-month-old, two iron-rich options are:  \n",
      "\n",
      "1. **Fish & Veggie Mash** (suitable for 9–12 months):  \n",
      "   - *Ingredients*: Cod, potato, peas.  \n",
      "   - *Recipe*: Steam fish until flaky, remove bones; steam veggies until tender. Mash to a soft, lumpy texture.  \n",
      "   - *Texture*: Mash.  \n",
      "   - *Allergen*: Fish.  \n",
      "\n",
      "2. **Beef & Veggie Bolognese** (recommended for 12–18 months but can be adapted):  \n",
      "   - *Ingredients*: Small pasta, beef, tomato, carrot, onion.  \n",
      "   - *Recipe*: Cook pasta until very soft. Dice beef and cook through; steam veggies until tender. Serve as soft pieces.  \n",
      "   - *Texture*: Soft pieces.  \n",
      "   - *Allergen*: Gluten (from pasta).  \n",
      "\n",
      "Always check for allergens and adjust texture as needed for your baby’s developmental stage.\n"
     ]
    }
   ],
   "source": [
    "print(rag(question))"
   ]
  },
  {
   "cell_type": "code",
   "execution_count": null,
   "id": "68be684d",
   "metadata": {},
   "outputs": [],
   "source": []
  }
 ],
 "metadata": {
  "kernelspec": {
   "display_name": "venv",
   "language": "python",
   "name": "python3"
  },
  "language_info": {
   "codemirror_mode": {
    "name": "ipython",
    "version": 3
   },
   "file_extension": ".py",
   "mimetype": "text/x-python",
   "name": "python",
   "nbconvert_exporter": "python",
   "pygments_lexer": "ipython3",
   "version": "3.11.9"
  }
 },
 "nbformat": 4,
 "nbformat_minor": 5
}
