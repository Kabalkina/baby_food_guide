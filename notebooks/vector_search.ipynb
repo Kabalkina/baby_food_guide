{
 "cells": [
  {
   "cell_type": "code",
   "execution_count": 3,
   "id": "6134c622",
   "metadata": {},
   "outputs": [],
   "source": [
    "import pandas as pd"
   ]
  },
  {
   "cell_type": "code",
   "execution_count": 4,
   "id": "1cfc3a2f",
   "metadata": {},
   "outputs": [
    {
     "data": {
      "text/html": [
       "<div>\n",
       "<style scoped>\n",
       "    .dataframe tbody tr th:only-of-type {\n",
       "        vertical-align: middle;\n",
       "    }\n",
       "\n",
       "    .dataframe tbody tr th {\n",
       "        vertical-align: top;\n",
       "    }\n",
       "\n",
       "    .dataframe thead th {\n",
       "        text-align: right;\n",
       "    }\n",
       "</style>\n",
       "<table border=\"1\" class=\"dataframe\">\n",
       "  <thead>\n",
       "    <tr style=\"text-align: right;\">\n",
       "      <th></th>\n",
       "      <th>Dish Name</th>\n",
       "      <th>Baby Age</th>\n",
       "      <th>Iron-Rich</th>\n",
       "      <th>Allergen</th>\n",
       "      <th>Ingredients</th>\n",
       "      <th>Cooking Time (mins)</th>\n",
       "      <th>Recipe</th>\n",
       "      <th>Texture</th>\n",
       "      <th>Meal Type</th>\n",
       "      <th>Calories (approx)</th>\n",
       "      <th>Preparation Difficulty</th>\n",
       "    </tr>\n",
       "  </thead>\n",
       "  <tbody>\n",
       "    <tr>\n",
       "      <th>0</th>\n",
       "      <td>Cheese &amp; Broccoli Pasta 1</td>\n",
       "      <td>18-36 months</td>\n",
       "      <td>No</td>\n",
       "      <td>Gluten,Dairy</td>\n",
       "      <td>Small pasta, broccoli, cheese, butter</td>\n",
       "      <td>15</td>\n",
       "      <td>Cook pasta, steam broccoli, mix with cheese sauce</td>\n",
       "      <td>Soft Pieces</td>\n",
       "      <td>Dinner</td>\n",
       "      <td>200</td>\n",
       "      <td>Medium</td>\n",
       "    </tr>\n",
       "    <tr>\n",
       "      <th>1</th>\n",
       "      <td>Chicken &amp; Sweet Pea Purée 2</td>\n",
       "      <td>8-12 months</td>\n",
       "      <td>Yes</td>\n",
       "      <td>NaN</td>\n",
       "      <td>Chicken breast, peas, sweet potato, water</td>\n",
       "      <td>30</td>\n",
       "      <td>Steam chicken &amp; veggies, blend to purée</td>\n",
       "      <td>Purée</td>\n",
       "      <td>Dinner</td>\n",
       "      <td>120</td>\n",
       "      <td>Medium</td>\n",
       "    </tr>\n",
       "    <tr>\n",
       "      <th>2</th>\n",
       "      <td>Cheese &amp; Broccoli Pasta 3</td>\n",
       "      <td>18-36 months</td>\n",
       "      <td>No</td>\n",
       "      <td>Gluten,Dairy</td>\n",
       "      <td>Small pasta, broccoli, cheese, butter</td>\n",
       "      <td>15</td>\n",
       "      <td>Cook pasta, steam broccoli, mix with cheese sauce</td>\n",
       "      <td>Soft Pieces</td>\n",
       "      <td>Dinner</td>\n",
       "      <td>200</td>\n",
       "      <td>Easy</td>\n",
       "    </tr>\n",
       "    <tr>\n",
       "      <th>3</th>\n",
       "      <td>Chicken &amp; Sweet Pea Purée 4</td>\n",
       "      <td>8-12 months</td>\n",
       "      <td>Yes</td>\n",
       "      <td>NaN</td>\n",
       "      <td>Chicken breast, peas, sweet potato, water</td>\n",
       "      <td>30</td>\n",
       "      <td>Steam chicken &amp; veggies, blend to purée</td>\n",
       "      <td>Purée</td>\n",
       "      <td>Dinner</td>\n",
       "      <td>120</td>\n",
       "      <td>Medium</td>\n",
       "    </tr>\n",
       "    <tr>\n",
       "      <th>4</th>\n",
       "      <td>Mini Veggie Omelette Fingers 5</td>\n",
       "      <td>9-12 months</td>\n",
       "      <td>Yes</td>\n",
       "      <td>Egg</td>\n",
       "      <td>Eggs, spinach, cheese (optional), olive oil</td>\n",
       "      <td>15</td>\n",
       "      <td>Whisk eggs, cook with veggies, cut into finger...</td>\n",
       "      <td>Finger Food</td>\n",
       "      <td>Breakfast</td>\n",
       "      <td>150</td>\n",
       "      <td>Medium</td>\n",
       "    </tr>\n",
       "  </tbody>\n",
       "</table>\n",
       "</div>"
      ],
      "text/plain": [
       "                        Dish Name      Baby Age Iron-Rich      Allergen  \\\n",
       "0       Cheese & Broccoli Pasta 1  18-36 months        No  Gluten,Dairy   \n",
       "1     Chicken & Sweet Pea Purée 2   8-12 months       Yes           NaN   \n",
       "2       Cheese & Broccoli Pasta 3  18-36 months        No  Gluten,Dairy   \n",
       "3     Chicken & Sweet Pea Purée 4   8-12 months       Yes           NaN   \n",
       "4  Mini Veggie Omelette Fingers 5   9-12 months       Yes           Egg   \n",
       "\n",
       "                                   Ingredients  Cooking Time (mins)  \\\n",
       "0        Small pasta, broccoli, cheese, butter                   15   \n",
       "1    Chicken breast, peas, sweet potato, water                   30   \n",
       "2        Small pasta, broccoli, cheese, butter                   15   \n",
       "3    Chicken breast, peas, sweet potato, water                   30   \n",
       "4  Eggs, spinach, cheese (optional), olive oil                   15   \n",
       "\n",
       "                                              Recipe      Texture  Meal Type  \\\n",
       "0  Cook pasta, steam broccoli, mix with cheese sauce  Soft Pieces     Dinner   \n",
       "1            Steam chicken & veggies, blend to purée        Purée     Dinner   \n",
       "2  Cook pasta, steam broccoli, mix with cheese sauce  Soft Pieces     Dinner   \n",
       "3            Steam chicken & veggies, blend to purée        Purée     Dinner   \n",
       "4  Whisk eggs, cook with veggies, cut into finger...  Finger Food  Breakfast   \n",
       "\n",
       "   Calories (approx) Preparation Difficulty  \n",
       "0                200                 Medium  \n",
       "1                120                 Medium  \n",
       "2                200                   Easy  \n",
       "3                120                 Medium  \n",
       "4                150                 Medium  "
      ]
     },
     "execution_count": 4,
     "metadata": {},
     "output_type": "execute_result"
    }
   ],
   "source": [
    "df = pd.read_csv('../data/baby_recipes.csv', sep = ';')\n",
    "df.head()"
   ]
  },
  {
   "cell_type": "code",
   "execution_count": 5,
   "id": "0e188c01",
   "metadata": {},
   "outputs": [],
   "source": [
    "df.columns = df.columns.str.lower().str.replace(' ', '_')\n",
    "df['allergen'] = df['allergen'].fillna('no')"
   ]
  },
  {
   "cell_type": "markdown",
   "id": "8421d007",
   "metadata": {},
   "source": [
    "# Vector search"
   ]
  },
  {
   "cell_type": "code",
   "execution_count": 28,
   "id": "96c67209",
   "metadata": {},
   "outputs": [],
   "source": [
    "from dotenv import load_dotenv\n",
    "import os\n",
    "from groq import Groq"
   ]
  },
  {
   "cell_type": "code",
   "execution_count": 29,
   "id": "ff09c13e",
   "metadata": {},
   "outputs": [],
   "source": [
    "load_dotenv()\n",
    "\n",
    "groq_client = Groq(api_key=os.getenv(\"GROQ_API_KEY\"))"
   ]
  },
  {
   "cell_type": "code",
   "execution_count": 30,
   "id": "e02593e1",
   "metadata": {},
   "outputs": [],
   "source": [
    "from qdrant_client import QdrantClient, models"
   ]
  },
  {
   "cell_type": "code",
   "execution_count": 31,
   "id": "fab5f0c2",
   "metadata": {},
   "outputs": [],
   "source": [
    "qd_client = QdrantClient(\"http://localhost:6333\")"
   ]
  },
  {
   "cell_type": "code",
   "execution_count": null,
   "id": "4d4c2055",
   "metadata": {},
   "outputs": [],
   "source": [
    "model = 'BAAI/bge-small-en'\n",
    "EMBEDDING_DIMENSIONALITY = 384\n",
    "collection_name = \"recipe_database\""
   ]
  },
  {
   "cell_type": "code",
   "execution_count": 6,
   "id": "242f2892",
   "metadata": {},
   "outputs": [
    {
     "data": {
      "text/plain": [
       "True"
      ]
     },
     "execution_count": 6,
     "metadata": {},
     "output_type": "execute_result"
    }
   ],
   "source": [
    "qd_client.create_collection(\n",
    "    collection_name=collection_name,\n",
    "    vectors_config=models.VectorParams(\n",
    "        size=EMBEDDING_DIMENSIONALITY,\n",
    "        distance=models.Distance.COSINE\n",
    "    )\n",
    ")"
   ]
  },
  {
   "cell_type": "code",
   "execution_count": 12,
   "id": "ac60279b",
   "metadata": {},
   "outputs": [
    {
     "data": {
      "text/plain": [
       "{'dish_name': 'Cheese & Broccoli Pasta 1',\n",
       " 'baby_age': '18-36 months',\n",
       " 'iron-rich': 'No',\n",
       " 'allergen': 'Gluten,Dairy',\n",
       " 'ingredients': 'Small pasta, broccoli, cheese, butter',\n",
       " 'cooking_time_(mins)': 15,\n",
       " 'recipe': 'Cook pasta, steam broccoli, mix with cheese sauce',\n",
       " 'texture': 'Soft Pieces',\n",
       " 'meal_type': 'Dinner',\n",
       " 'calories_(approx)': 200,\n",
       " 'preparation_difficulty': 'Medium'}"
      ]
     },
     "execution_count": 12,
     "metadata": {},
     "output_type": "execute_result"
    }
   ],
   "source": [
    "documents = df.to_dict(orient='records')\n",
    "documents[0]"
   ]
  },
  {
   "cell_type": "code",
   "execution_count": 22,
   "id": "be800606",
   "metadata": {},
   "outputs": [],
   "source": [
    "points = []\n",
    "\n",
    "for i, doc in enumerate(documents):\n",
    "    text = ' '.join(str(doc.get(field, \"\")) for field in df.columns)\n",
    "\n",
    "    vector = models.Document(text=text, model=model)\n",
    "    point = models.PointStruct(\n",
    "        id=i,\n",
    "        vector=vector,\n",
    "        payload=doc\n",
    "    )\n",
    "    points.append(point)"
   ]
  },
  {
   "cell_type": "code",
   "execution_count": 23,
   "id": "5217fcee",
   "metadata": {},
   "outputs": [
    {
     "data": {
      "application/vnd.jupyter.widget-view+json": {
       "model_id": "89ef6d245b0646b1a648a060ddec0d2c",
       "version_major": 2,
       "version_minor": 0
      },
      "text/plain": [
       "Fetching 5 files:   0%|          | 0/5 [00:00<?, ?it/s]"
      ]
     },
     "metadata": {},
     "output_type": "display_data"
    },
    {
     "name": "stderr",
     "output_type": "stream",
     "text": [
      "Xet Storage is enabled for this repo, but the 'hf_xet' package is not installed. Falling back to regular HTTP download. For better performance, install the package with: `pip install huggingface_hub[hf_xet]` or `pip install hf_xet`\n"
     ]
    },
    {
     "data": {
      "application/vnd.jupyter.widget-view+json": {
       "model_id": "284401695a5049dd96886fe95f8a19b8",
       "version_major": 2,
       "version_minor": 0
      },
      "text/plain": [
       "special_tokens_map.json:   0%|          | 0.00/125 [00:00<?, ?B/s]"
      ]
     },
     "metadata": {},
     "output_type": "display_data"
    },
    {
     "data": {
      "application/vnd.jupyter.widget-view+json": {
       "model_id": "b367375379784786a6df2e949ffcd7b1",
       "version_major": 2,
       "version_minor": 0
      },
      "text/plain": [
       "config.json:   0%|          | 0.00/701 [00:00<?, ?B/s]"
      ]
     },
     "metadata": {},
     "output_type": "display_data"
    },
    {
     "data": {
      "application/vnd.jupyter.widget-view+json": {
       "model_id": "4488adc8ba084af8b013d164d7fdc850",
       "version_major": 2,
       "version_minor": 0
      },
      "text/plain": [
       "tokenizer.json: 0.00B [00:00, ?B/s]"
      ]
     },
     "metadata": {},
     "output_type": "display_data"
    },
    {
     "name": "stderr",
     "output_type": "stream",
     "text": [
      "c:\\Users\\kabal\\Documents\\study\\llm-zoomcamp\\baby_food_guide\\venv\\Lib\\site-packages\\huggingface_hub\\file_download.py:143: UserWarning: `huggingface_hub` cache-system uses symlinks by default to efficiently store duplicated files but your machine does not support them in C:\\Users\\kabal\\AppData\\Local\\Temp\\fastembed_cache\\models--Qdrant--bge-small-en. Caching files will still work but in a degraded version that might require more space on your disk. This warning can be disabled by setting the `HF_HUB_DISABLE_SYMLINKS_WARNING` environment variable. For more details, see https://huggingface.co/docs/huggingface_hub/how-to-cache#limitations.\n",
      "To support symlinks on Windows, you either need to activate Developer Mode or to run Python as an administrator. In order to activate developer mode, see this article: https://docs.microsoft.com/en-us/windows/apps/get-started/enable-your-device-for-development\n",
      "  warnings.warn(message)\n"
     ]
    },
    {
     "data": {
      "application/vnd.jupyter.widget-view+json": {
       "model_id": "22b63947b81a480a9b0ae3b7658a6db9",
       "version_major": 2,
       "version_minor": 0
      },
      "text/plain": [
       "tokenizer_config.json:   0%|          | 0.00/366 [00:00<?, ?B/s]"
      ]
     },
     "metadata": {},
     "output_type": "display_data"
    },
    {
     "data": {
      "application/vnd.jupyter.widget-view+json": {
       "model_id": "be0c3edbd10345248a69c30392fb71e8",
       "version_major": 2,
       "version_minor": 0
      },
      "text/plain": [
       "model_optimized.onnx:   0%|          | 0.00/133M [00:00<?, ?B/s]"
      ]
     },
     "metadata": {},
     "output_type": "display_data"
    },
    {
     "name": "stderr",
     "output_type": "stream",
     "text": [
      "\u001b[32m2025-09-03 21:07:04.716\u001b[0m | \u001b[31m\u001b[1mERROR   \u001b[0m | \u001b[36mfastembed.common.model_management\u001b[0m:\u001b[36mdownload_model\u001b[0m:\u001b[36m430\u001b[0m - \u001b[31m\u001b[1mCould not download model from HuggingFace: [WinError 1314] Dem Client fehlt ein erforderliches Recht: '..\\\\..\\\\blobs\\\\d24f8d0cfab6e6a99fca53c1143c7d780aeb210c' -> 'C:\\\\Users\\\\kabal\\\\AppData\\\\Local\\\\Temp\\\\fastembed_cache\\\\models--Qdrant--bge-small-en\\\\snapshots\\\\8791246cc2a79c7949a4dc0d4a018cbd7d024879\\\\config.json' Falling back to other sources.\u001b[0m\n",
      "100%|██████████| 77.7M/77.7M [00:04<00:00, 15.7MiB/s]\n"
     ]
    },
    {
     "data": {
      "text/plain": [
       "UpdateResult(operation_id=0, status=<UpdateStatus.COMPLETED: 'completed'>)"
      ]
     },
     "execution_count": 23,
     "metadata": {},
     "output_type": "execute_result"
    }
   ],
   "source": [
    "qd_client.upsert(\n",
    "    collection_name=collection_name,\n",
    "    points=points\n",
    ")"
   ]
  },
  {
   "cell_type": "code",
   "execution_count": 24,
   "id": "71a1ac63",
   "metadata": {},
   "outputs": [],
   "source": [
    "def vector_search(question):\n",
    "    print('vector_search is used')\n",
    "    \n",
    "    query_points = qd_client.query_points(\n",
    "        collection_name=collection_name,\n",
    "        query=models.Document(\n",
    "            text=question,\n",
    "            model=model\n",
    "        ),\n",
    "        limit=3,\n",
    "        with_payload=False\n",
    "    )\n",
    "    \n",
    "    results = []\n",
    "    \n",
    "    for point in query_points.points:\n",
    "        results.append(point.payload)\n",
    "    \n",
    "    return results"
   ]
  },
  {
   "cell_type": "code",
   "execution_count": 38,
   "id": "f5c8ddbd",
   "metadata": {},
   "outputs": [],
   "source": [
    "def build_prompt(query, search_results, max_docs=5):\n",
    "\n",
    "    prompt_template = \"\"\"\n",
    "    You are a helpful AI food assistant. Answer the QUESTION using only the information in CONTEXT. \n",
    "    If the answer is not in CONTEXT, say you don't know.\n",
    "\n",
    "    Provide concise, factual answers. If multiple dishes match, summarize clearly.\n",
    "\n",
    "    QUESTION: {question}\n",
    "\n",
    "    CONTEXT:\n",
    "    {context}\n",
    "\n",
    "    Answer:\n",
    "    \"\"\".strip()\n",
    "\n",
    "    # Limit to top N documents\n",
    "    context_entries = []\n",
    "    for i, doc in enumerate(search_results[:max_docs]):\n",
    "        context_entries.append(\n",
    "            f\"- Dish: {doc.get('dish_name', 'Unknown')}\\n\"\n",
    "            f\"  Baby Age: {doc.get('baby_age', 'N/A')}\\n\"\n",
    "            f\"  Iron Rich: {doc.get('iron-rich', 'N/A')}\\n\"\n",
    "            f\"  Allergens: {doc.get('allergen', 'N/A')}\\n\"\n",
    "            f\"  Ingredients: {doc.get('ingredients', 'N/A')}\\n\"\n",
    "            f\"  Cooking Time: {doc.get('cooking_time_(mins)', 'N/A')} mins\\n\"\n",
    "            f\"  Texture: {doc.get('texture', 'N/A')}\\n\"\n",
    "            f\"  Meal Type: {doc.get('meal_type', 'N/A')}\\n\"\n",
    "            f\"  Calories: {doc.get('calories_(approx)', 'N/A')}\\n\"\n",
    "            f\"  Difficulty: {doc.get('preparation_difficulty', 'N/A')}\\n\"\n",
    "            f\"  Recipe: {doc.get('recipe', 'N/A')}\"\n",
    "        )\n",
    "\n",
    "    context = \"\\n\\n\".join(context_entries)\n",
    "    prompt = prompt_template.format(question=query, context=context)\n",
    "    return prompt\n"
   ]
  },
  {
   "cell_type": "code",
   "execution_count": 34,
   "id": "16e2bf79",
   "metadata": {},
   "outputs": [],
   "source": [
    "def llm(prompt):\n",
    "    response = groq_client.chat.completions.create(\n",
    "        model='qwen/qwen3-32b',\n",
    "        messages=[{\"role\": \"user\", \"content\": prompt}]\n",
    "    )\n",
    "    \n",
    "    return response.choices[0].message.content"
   ]
  },
  {
   "cell_type": "code",
   "execution_count": 35,
   "id": "c42eb46b",
   "metadata": {},
   "outputs": [],
   "source": [
    "def rag(query):\n",
    "    search_results = vector_search(query)\n",
    "    prompt = build_prompt(query, search_results)\n",
    "    answer = llm(prompt)\n",
    "    return answer"
   ]
  },
  {
   "cell_type": "code",
   "execution_count": 39,
   "id": "cb50bad7",
   "metadata": {},
   "outputs": [],
   "source": [
    "question = \"What are good iron-rich meals for a 6-month-old?\""
   ]
  },
  {
   "cell_type": "code",
   "execution_count": 40,
   "id": "58726ec6",
   "metadata": {},
   "outputs": [
    {
     "name": "stdout",
     "output_type": "stream",
     "text": [
      "vector_search is used\n"
     ]
    },
    {
     "ename": "AttributeError",
     "evalue": "'NoneType' object has no attribute 'get'",
     "output_type": "error",
     "traceback": [
      "\u001b[31m---------------------------------------------------------------------------\u001b[39m",
      "\u001b[31mAttributeError\u001b[39m                            Traceback (most recent call last)",
      "\u001b[36mCell\u001b[39m\u001b[36m \u001b[39m\u001b[32mIn[40]\u001b[39m\u001b[32m, line 1\u001b[39m\n\u001b[32m----> \u001b[39m\u001b[32m1\u001b[39m \u001b[43mrag\u001b[49m\u001b[43m(\u001b[49m\u001b[43mquestion\u001b[49m\u001b[43m)\u001b[49m\n",
      "\u001b[36mCell\u001b[39m\u001b[36m \u001b[39m\u001b[32mIn[35]\u001b[39m\u001b[32m, line 3\u001b[39m, in \u001b[36mrag\u001b[39m\u001b[34m(query)\u001b[39m\n\u001b[32m      1\u001b[39m \u001b[38;5;28;01mdef\u001b[39;00m\u001b[38;5;250m \u001b[39m\u001b[34mrag\u001b[39m(query):\n\u001b[32m      2\u001b[39m     search_results = vector_search(query)\n\u001b[32m----> \u001b[39m\u001b[32m3\u001b[39m     prompt = \u001b[43mbuild_prompt\u001b[49m\u001b[43m(\u001b[49m\u001b[43mquery\u001b[49m\u001b[43m,\u001b[49m\u001b[43m \u001b[49m\u001b[43msearch_results\u001b[49m\u001b[43m)\u001b[49m\n\u001b[32m      4\u001b[39m     answer = llm(prompt)\n\u001b[32m      5\u001b[39m     \u001b[38;5;28;01mreturn\u001b[39;00m answer\n",
      "\u001b[36mCell\u001b[39m\u001b[36m \u001b[39m\u001b[32mIn[38]\u001b[39m\u001b[32m, line 21\u001b[39m, in \u001b[36mbuild_prompt\u001b[39m\u001b[34m(query, search_results, max_docs)\u001b[39m\n\u001b[32m     18\u001b[39m context_entries = []\n\u001b[32m     19\u001b[39m \u001b[38;5;28;01mfor\u001b[39;00m i, doc \u001b[38;5;129;01min\u001b[39;00m \u001b[38;5;28menumerate\u001b[39m(search_results[:max_docs]):\n\u001b[32m     20\u001b[39m     context_entries.append(\n\u001b[32m---> \u001b[39m\u001b[32m21\u001b[39m         \u001b[33mf\u001b[39m\u001b[33m\"\u001b[39m\u001b[33m- Dish: \u001b[39m\u001b[38;5;132;01m{\u001b[39;00m\u001b[43mdoc\u001b[49m\u001b[43m.\u001b[49m\u001b[43mget\u001b[49m(\u001b[33m'\u001b[39m\u001b[33mdish_name\u001b[39m\u001b[33m'\u001b[39m,\u001b[38;5;250m \u001b[39m\u001b[33m'\u001b[39m\u001b[33mUnknown\u001b[39m\u001b[33m'\u001b[39m)\u001b[38;5;132;01m}\u001b[39;00m\u001b[38;5;130;01m\\n\u001b[39;00m\u001b[33m\"\u001b[39m\n\u001b[32m     22\u001b[39m         \u001b[33mf\u001b[39m\u001b[33m\"\u001b[39m\u001b[33m  Baby Age: \u001b[39m\u001b[38;5;132;01m{\u001b[39;00mdoc.get(\u001b[33m'\u001b[39m\u001b[33mbaby_age\u001b[39m\u001b[33m'\u001b[39m,\u001b[38;5;250m \u001b[39m\u001b[33m'\u001b[39m\u001b[33mN/A\u001b[39m\u001b[33m'\u001b[39m)\u001b[38;5;132;01m}\u001b[39;00m\u001b[38;5;130;01m\\n\u001b[39;00m\u001b[33m\"\u001b[39m\n\u001b[32m     23\u001b[39m         \u001b[33mf\u001b[39m\u001b[33m\"\u001b[39m\u001b[33m  Iron Rich: \u001b[39m\u001b[38;5;132;01m{\u001b[39;00mdoc.get(\u001b[33m'\u001b[39m\u001b[33miron-rich\u001b[39m\u001b[33m'\u001b[39m,\u001b[38;5;250m \u001b[39m\u001b[33m'\u001b[39m\u001b[33mN/A\u001b[39m\u001b[33m'\u001b[39m)\u001b[38;5;132;01m}\u001b[39;00m\u001b[38;5;130;01m\\n\u001b[39;00m\u001b[33m\"\u001b[39m\n\u001b[32m     24\u001b[39m         \u001b[33mf\u001b[39m\u001b[33m\"\u001b[39m\u001b[33m  Allergens: \u001b[39m\u001b[38;5;132;01m{\u001b[39;00mdoc.get(\u001b[33m'\u001b[39m\u001b[33mallergen\u001b[39m\u001b[33m'\u001b[39m,\u001b[38;5;250m \u001b[39m\u001b[33m'\u001b[39m\u001b[33mN/A\u001b[39m\u001b[33m'\u001b[39m)\u001b[38;5;132;01m}\u001b[39;00m\u001b[38;5;130;01m\\n\u001b[39;00m\u001b[33m\"\u001b[39m\n\u001b[32m     25\u001b[39m         \u001b[33mf\u001b[39m\u001b[33m\"\u001b[39m\u001b[33m  Ingredients: \u001b[39m\u001b[38;5;132;01m{\u001b[39;00mdoc.get(\u001b[33m'\u001b[39m\u001b[33mingredients\u001b[39m\u001b[33m'\u001b[39m,\u001b[38;5;250m \u001b[39m\u001b[33m'\u001b[39m\u001b[33mN/A\u001b[39m\u001b[33m'\u001b[39m)\u001b[38;5;132;01m}\u001b[39;00m\u001b[38;5;130;01m\\n\u001b[39;00m\u001b[33m\"\u001b[39m\n\u001b[32m     26\u001b[39m         \u001b[33mf\u001b[39m\u001b[33m\"\u001b[39m\u001b[33m  Cooking Time: \u001b[39m\u001b[38;5;132;01m{\u001b[39;00mdoc.get(\u001b[33m'\u001b[39m\u001b[33mcooking_time_(mins)\u001b[39m\u001b[33m'\u001b[39m,\u001b[38;5;250m \u001b[39m\u001b[33m'\u001b[39m\u001b[33mN/A\u001b[39m\u001b[33m'\u001b[39m)\u001b[38;5;132;01m}\u001b[39;00m\u001b[33m mins\u001b[39m\u001b[38;5;130;01m\\n\u001b[39;00m\u001b[33m\"\u001b[39m\n\u001b[32m     27\u001b[39m         \u001b[33mf\u001b[39m\u001b[33m\"\u001b[39m\u001b[33m  Texture: \u001b[39m\u001b[38;5;132;01m{\u001b[39;00mdoc.get(\u001b[33m'\u001b[39m\u001b[33mtexture\u001b[39m\u001b[33m'\u001b[39m,\u001b[38;5;250m \u001b[39m\u001b[33m'\u001b[39m\u001b[33mN/A\u001b[39m\u001b[33m'\u001b[39m)\u001b[38;5;132;01m}\u001b[39;00m\u001b[38;5;130;01m\\n\u001b[39;00m\u001b[33m\"\u001b[39m\n\u001b[32m     28\u001b[39m         \u001b[33mf\u001b[39m\u001b[33m\"\u001b[39m\u001b[33m  Meal Type: \u001b[39m\u001b[38;5;132;01m{\u001b[39;00mdoc.get(\u001b[33m'\u001b[39m\u001b[33mmeal_type\u001b[39m\u001b[33m'\u001b[39m,\u001b[38;5;250m \u001b[39m\u001b[33m'\u001b[39m\u001b[33mN/A\u001b[39m\u001b[33m'\u001b[39m)\u001b[38;5;132;01m}\u001b[39;00m\u001b[38;5;130;01m\\n\u001b[39;00m\u001b[33m\"\u001b[39m\n\u001b[32m     29\u001b[39m         \u001b[33mf\u001b[39m\u001b[33m\"\u001b[39m\u001b[33m  Calories: \u001b[39m\u001b[38;5;132;01m{\u001b[39;00mdoc.get(\u001b[33m'\u001b[39m\u001b[33mcalories_(approx)\u001b[39m\u001b[33m'\u001b[39m,\u001b[38;5;250m \u001b[39m\u001b[33m'\u001b[39m\u001b[33mN/A\u001b[39m\u001b[33m'\u001b[39m)\u001b[38;5;132;01m}\u001b[39;00m\u001b[38;5;130;01m\\n\u001b[39;00m\u001b[33m\"\u001b[39m\n\u001b[32m     30\u001b[39m         \u001b[33mf\u001b[39m\u001b[33m\"\u001b[39m\u001b[33m  Difficulty: \u001b[39m\u001b[38;5;132;01m{\u001b[39;00mdoc.get(\u001b[33m'\u001b[39m\u001b[33mpreparation_difficulty\u001b[39m\u001b[33m'\u001b[39m,\u001b[38;5;250m \u001b[39m\u001b[33m'\u001b[39m\u001b[33mN/A\u001b[39m\u001b[33m'\u001b[39m)\u001b[38;5;132;01m}\u001b[39;00m\u001b[38;5;130;01m\\n\u001b[39;00m\u001b[33m\"\u001b[39m\n\u001b[32m     31\u001b[39m         \u001b[33mf\u001b[39m\u001b[33m\"\u001b[39m\u001b[33m  Recipe: \u001b[39m\u001b[38;5;132;01m{\u001b[39;00mdoc.get(\u001b[33m'\u001b[39m\u001b[33mrecipe\u001b[39m\u001b[33m'\u001b[39m,\u001b[38;5;250m \u001b[39m\u001b[33m'\u001b[39m\u001b[33mN/A\u001b[39m\u001b[33m'\u001b[39m)\u001b[38;5;132;01m}\u001b[39;00m\u001b[33m\"\u001b[39m\n\u001b[32m     32\u001b[39m     )\n\u001b[32m     34\u001b[39m context = \u001b[33m\"\u001b[39m\u001b[38;5;130;01m\\n\u001b[39;00m\u001b[38;5;130;01m\\n\u001b[39;00m\u001b[33m\"\u001b[39m.join(context_entries)\n\u001b[32m     35\u001b[39m prompt = prompt_template.format(question=query, context=context)\n",
      "\u001b[31mAttributeError\u001b[39m: 'NoneType' object has no attribute 'get'"
     ]
    }
   ],
   "source": [
    "rag(question)"
   ]
  },
  {
   "cell_type": "code",
   "execution_count": null,
   "id": "d469f308",
   "metadata": {},
   "outputs": [],
   "source": []
  }
 ],
 "metadata": {
  "kernelspec": {
   "display_name": "venv",
   "language": "python",
   "name": "python3"
  },
  "language_info": {
   "codemirror_mode": {
    "name": "ipython",
    "version": 3
   },
   "file_extension": ".py",
   "mimetype": "text/x-python",
   "name": "python",
   "nbconvert_exporter": "python",
   "pygments_lexer": "ipython3",
   "version": "3.11.9"
  }
 },
 "nbformat": 4,
 "nbformat_minor": 5
}
